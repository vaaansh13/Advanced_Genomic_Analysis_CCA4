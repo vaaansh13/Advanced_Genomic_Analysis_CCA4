{
 "cells": [
  {
   "cell_type": "code",
   "execution_count": null,
   "id": "1036c4e4-b39f-42a3-ad69-74034783f3e8",
   "metadata": {},
   "outputs": [],
   "source": [
    "# Advanced Genomic Analysis and Pattern Recognition (CCA4)\n",
    "\n",
    "**Assignment 2**  \n",
    "**Name:** Vaansh Asija  \n",
    "**PRN:** 1032240032  \n",
    "**Subject:** Computational and Cognitive Analytics (CCA4)  \n",
    "**Date:** 28 October 2025\n"
   ]
  },
  {
   "cell_type": "code",
   "execution_count": 2,
   "id": "70bfb56f-f0eb-4ca0-b30b-4752319a44e5",
   "metadata": {},
   "outputs": [
    {
     "ename": "ModuleNotFoundError",
     "evalue": "No module named 'matplotlib'",
     "output_type": "error",
     "traceback": [
      "\u001b[31m------------------------------------\u001b[39m",
      "\u001b[31mModuleNotFoundError\u001b[39mTraceback (most recent call last)",
      "\u001b[36mCell\u001b[39m\u001b[36m \u001b[39m\u001b[32mIn[2]\u001b[39m\u001b[32m, line 7\u001b[39m\n\u001b[32m      1\u001b[39m \u001b[38;5;66;03m# Question 1: GC Content Calculation\u001b[39;00m\n\u001b[32m      2\u001b[39m \u001b[38;5;66;03m# -----------------------------------\u001b[39;00m\n\u001b[32m      3\u001b[39m \u001b[38;5;66;03m# This program calculates the GC content of DNA sequences overall,\u001b[39;00m\n\u001b[32m      4\u001b[39m \u001b[38;5;66;03m# in sliding windows, and visualizes GC skew.\u001b[39;00m\n\u001b[32m      6\u001b[39m \u001b[38;5;28;01mfrom\u001b[39;00m\u001b[38;5;250m \u001b[39m\u001b[34;01mtyping\u001b[39;00m\u001b[38;5;250m \u001b[39m\u001b[38;5;28;01mimport\u001b[39;00m List, Tuple\n\u001b[32m----> \u001b[39m\u001b[32m7\u001b[39m \u001b[38;5;28;01mimport\u001b[39;00m\u001b[38;5;250m \u001b[39m\u001b[34;01mmatplotlib\u001b[39;00m\u001b[34;01m.\u001b[39;00m\u001b[34;01mpyplot\u001b[39;00m\u001b[38;5;250m \u001b[39m\u001b[38;5;28;01mas\u001b[39;00m\u001b[38;5;250m \u001b[39m\u001b[34;01mplt\u001b[39;00m\n\u001b[32m      9\u001b[39m \u001b[38;5;28;01mdef\u001b[39;00m\u001b[38;5;250m \u001b[39m\u001b[34mgc_content\u001b[39m(sequence: \u001b[38;5;28mstr\u001b[39m) -> \u001b[38;5;28mfloat\u001b[39m:\n\u001b[32m     10\u001b[39m \u001b[38;5;250m    \u001b[39m\u001b[33;03m\"\"\"Calculate overall GC content in percentage.\"\"\"\u001b[39;00m\n",
      "\u001b[31mModuleNotFoundError\u001b[39m: No module named 'matplotlib'"
     ]
    }
   ],
   "source": [
    "# Question 1: GC Content Calculation\n",
    "# -----------------------------------\n",
    "# This program calculates the GC content of DNA sequences overall,\n",
    "# in sliding windows, and visualizes GC skew.\n",
    "\n",
    "from typing import List, Tuple\n",
    "import matplotlib.pyplot as plt\n",
    "\n",
    "def gc_content(sequence: str) -> float:\n",
    "    \"\"\"Calculate overall GC content in percentage.\"\"\"\n",
    "    gc_count = sequence.count(\"G\") + sequence.count(\"C\")\n",
    "    return round((gc_count / len(sequence)) * 100, 2)\n",
    "\n",
    "def sliding_window_gc(sequence: str, window_size: int = 50) -> List[float]:\n",
    "    \"\"\"Calculate GC content in sliding windows across the sequence.\"\"\"\n",
    "    gc_values = []\n",
    "    for i in range(0, len(sequence) - window_size + 1, window_size):\n",
    "        window = sequence[i:i + window_size]\n",
    "        gc_values.append(gc_content(window))\n",
    "    return gc_values\n",
    "\n",
    "def gc_skew(sequence: str) -> Tuple[List[int], List[float]]:\n",
    "    \"\"\"Compute GC skew (G - C) / (G + C) for visualization.\"\"\"\n",
    "    skew = []\n",
    "    positions = []\n",
    "    g_count, c_count = 0, 0\n",
    "    for i, base in enumerate(sequence):\n",
    "        if base == \"G\":\n",
    "            g_count += 1\n",
    "        elif base == \"C\":\n",
    "            c_count += 1\n",
    "        if (g_count + c_count) != 0:\n",
    "            skew.append((g_count - c_count) / (g_count + c_count))\n",
    "        else:\n",
    "            skew.append(0)\n",
    "        positions.append(i)\n",
    "    return positions, skew\n",
    "\n",
    "# Example DNA sequence\n",
    "sequence = \"ATGCGCGATCGATCGCGCGTATGCGCGCGCGCGCGTATGCG\"\n",
    "\n",
    "print(\"Overall GC Content:\", gc_content(sequence), \"%\")\n",
    "\n",
    "# Sliding window analysis\n",
    "gc_values = sliding_window_gc(sequence, window_size=10)\n",
    "print(\"Sliding Window GC Content:\", gc_values)\n",
    "\n",
    "# GC Skew Plot\n",
    "positions, skew = gc_skew(sequence)\n",
    "plt.plot(positions, skew)\n",
    "plt.title(\"GC Skew Plot\")\n",
    "plt.xlabel(\"Position\")\n",
    "plt.ylabel(\"GC Skew\")\n",
    "plt.show()\n"
   ]
  },
  {
   "cell_type": "code",
   "execution_count": null,
   "id": "c08fd006-00f3-46cf-8c43-0b8ab9461bab",
   "metadata": {},
   "outputs": [],
   "source": [
    "### Observation:\n",
    "- The overall GC content represents the proportion of guanine and cytosine bases in DNA.\n",
    "- Sliding window GC content helps identify regions rich in G and C bases.\n",
    "- The GC skew plot visually shows where G and C are unbalanced in the sequence.\n",
    "- High GC regions indicate stronger DNA bonding and higher thermal stability.\n"
   ]
  }
 ],
 "metadata": {
  "kernelspec": {
   "display_name": "Python 3 (ipykernel)",
   "language": "python",
   "name": "python3"
  },
  "language_info": {
   "codemirror_mode": {
    "name": "ipython",
    "version": 3
   },
   "file_extension": ".py",
   "mimetype": "text/x-python",
   "name": "python",
   "nbconvert_exporter": "python",
   "pygments_lexer": "ipython3",
   "version": "3.13.3"
  }
 },
 "nbformat": 4,
 "nbformat_minor": 5
}
